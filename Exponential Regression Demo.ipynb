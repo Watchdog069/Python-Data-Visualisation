{
 "cells": [
  {
   "cell_type": "code",
   "execution_count": 19,
   "metadata": {
    "scrolled": true
   },
   "outputs": [
    {
     "data": {
      "image/png": "[encoded data removed]",
      "text/plain": [
       "<Figure size 432x288 with 1 Axes>"
      ]
     },
     "metadata": {
      "needs_background": "light"
     },
     "output_type": "display_data"
    },
    {
     "name": "stdout",
     "output_type": "stream",
     "text": [
      "enter input:\n",
      "Enter Year:24\n",
      "Population= 576161044.4607805\n"
     ]
    }
   ],
   "source": [
    "import matplotlib.pyplot as plt\n",
    "import math\n",
    "import pandas as pd\n",
    "import numpy as np\n",
    "plt.rc('xtick',labelsize=10) #set axis text size\n",
    "plt.rc('ytick',labelsize=10)\n",
    "df = pd.read_csv (r'C:\\Users\\user\\Desktop\\Dataset\\USPop.csv')   #read the csv file (put 'r' before the path string to address any special characters in the path, such as '\\'). Don't forget to put the file name at the end of the path + \".csv\"\n",
    "x = df['Number'].values  #point\n",
    "y = df['Population'].values #population\n",
    "plt.plot(x,y,'go-', label='line 1', linewidth=1) #linewidth is width of the graph line\n",
    "plt.xlabel('Year')\n",
    "plt.ylabel('Population')\n",
    "plt.title('Graph for Year vs Population in US')\n",
    "plt.show()\n",
    "\n",
    "n=x.size\n",
    "xsqr=0\n",
    "xy=0\n",
    "yi=0\n",
    "xi=0\n",
    "for i in range (0,n):\n",
    "    xsqr=xsqr+x[i]*x[i]\n",
    "for i in range (0,n):\n",
    "    yi=yi+math.log(y[i])\n",
    "for i in range (0,n):\n",
    "    xi=xi+x[i]\n",
    "for i in range (0,n):\n",
    "    xy=xy+x[i]*math.log(y[i])\n",
    "A = np.array([[xsqr,xi], [xi,n]])\n",
    "B = np.array([xy,yi])\n",
    "C = np.linalg.solve(A, B) \n",
    "a=C[0]\n",
    "b=C[1]\n",
    "b=math.exp(b)\n",
    "print(\"enter input:\")\n",
    "year=float(input(\"Enter Year:\"))\n",
    "out=b*math.exp(a*year)\n",
    "print(\"Population=\",out)\n"
   ]
  },
  {
   "cell_type": "code",
   "execution_count": null,
   "metadata": {},
   "outputs": [],
   "source": []
  },
  {
   "cell_type": "code",
   "execution_count": null,
   "metadata": {},
   "outputs": [],
   "source": []
  }
 ],
 "metadata": {
  "kernelspec": {
   "display_name": "Python 3",
   "language": "python",
   "name": "python3"
  },
  "language_info": {
   "codemirror_mode": {
    "name": "ipython",
    "version": 3
   },
   "file_extension": ".py",
   "mimetype": "text/x-python",
   "name": "python",
   "nbconvert_exporter": "python",
   "pygments_lexer": "ipython3",
   "version": "3.7.4"
  }
 },
 "nbformat": 4,
 "nbformat_minor": 4
}
